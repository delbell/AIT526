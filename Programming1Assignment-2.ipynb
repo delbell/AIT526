{
 "cells": [
  {
   "cell_type": "code",
   "execution_count": 1,
   "id": "630838f1-0781-4042-8865-f12593a20f63",
   "metadata": {},
   "outputs": [],
   "source": [
    "'''\n",
    "Created on Sep  17 2023\n",
    "@authors: Group 4 - Bell, Conn, Miskinyar, Vallanadu\n",
    "AIT 526: Intro to NLP - Programming Assignment 1: Chatbox Eliza\n",
    "\n",
    "The Purpose:\n",
    "This program acts as a Psychotherapist named Eliza and engages in dialogue with a user, \n",
    "It can carry out \"word spotting\" and transform certain simple sentence forms from the user \n",
    "into questions to be asked back.\n",
    "\n",
    "Instructions:\n",
    "- Run the program\n",
    "- Respond to the promts given by Eliza.\n",
    "- Be sure to respond in simple statements like: I feel, I want, I should, because I....\n",
    "\n",
    "The algorithm:\n",
    "Functions made to handle pronoun substitution, generate a random response, and respond to user input.\n",
    "\n",
    "Example:\n",
    "Eliza: Hello! I'm Eliza, a psychotherapist. Please begin by stating your name.\n",
    "User: Cathy\n",
    "Eliza: Hello Cathy! How can I assist you today?\n",
    "You:  I need help\n",
    "Eliza: What would it mean if you got help?\n",
    "You:  I would be happy\n",
    "Eliza: Is that the real reason?\n",
    "You:  yes\n",
    "Eliza: Okay, please elaborate.\n",
    "You:  I feel sad\n",
    "Eliza: Why do you feel sad?\n",
    "You:  I want money\n",
    "Eliza: Okay, please elaborate on your interest in money.\n",
    "You:  I need it\n",
    "Eliza: Why do you need it?\n",
    "You:  I should have it\n",
    "Eliza: I understand that you think you should have it. Can you explain why?\n",
    "You:  because I have bills\n",
    "Eliza: Can you elaborate on why?\n",
    "You:  no\n",
    "Eliza: Okay, anything else you want to talk about? If not please say type done or stop.\n",
    "You:  done\n",
    "Eliza: Thank you for talking with me. Goodbye!\n",
    "Eliza: Goodbye! Have a nice day, Cathy!\n",
    "'''\n",
    "\n",
    "# import all the necessary packages\n",
    "import re\n",
    "import random"
   ]
  },
  {
   "cell_type": "code",
   "execution_count": 104,
   "id": "89d42ad8-6344-4512-8851-878ebfc5c9f4",
   "metadata": {},
   "outputs": [],
   "source": [
    "patterns = [\n",
    "    (r'I need (.*)', [\n",
    "        'Why do you need {0}?',\n",
    "        'What would it mean if you got {0}?',\n",
    "        'Can you tell me more about your need for {0}?'\n",
    "    ]),\n",
    "    (r'I would be (.*)', [\n",
    "        'Is that the real reason?',\n",
    "        'What other reasons come to mind?',\n",
    "        'Can you elaborate on why?',\n",
    "    ]),\n",
    "    (r'Why (?:don\\'?t|cannot|can\\'?t) you ([^\\?]+)\\??', [\n",
    "        'Do you really think I can\\'t {0}?',\n",
    "        'What makes you think I can\\'t {0}?',\n",
    "        'I might be able to {0} if you provide more information.'\n",
    "    ]),\n",
    "    (r'(.*)\\s?because(.*)', [\n",
    "        'Is that the real reason?',\n",
    "        'What other reasons come to mind?',\n",
    "        'Can you elaborate on why?',\n",
    "    ]),\n",
    "    (r'quit|exit|bye|done|stop', [\n",
    "        'Thank you for talking with me. Goodbye!',\n",
    "        'Goodbye! Take care.'\n",
    "    ]),\n",
    "    (\"I\\\\'?m (.*)\", [\n",
    "        'Tell me more about how you are {0}.',\n",
    "        'Why do you feel {0}?',\n",
    "        'I understand that you feel {0}. Can you explain why?'\n",
    "    ]),\n",
    "    (\"I am (.*)\", [\n",
    "        'Tell me more about how you are {0}.',\n",
    "        'Why do you feel {0}?',\n",
    "        'I understand that you feel {0}. Can you explain why?'\n",
    "    ]),\n",
    "    (r'I should (.*)', [\n",
    "        'Tell me why you think you should {0}.',\n",
    "        'Why should you {0}?',\n",
    "        'I understand that you think you should {0}. Can you explain why?'\n",
    "    ]),\n",
    "    (r'I feel (.*)', [\n",
    "        'Tell me more about your feelings.',\n",
    "        'Why do you feel {0}?',\n",
    "        'I understand that you feel {0}. Can you explain why?'\n",
    "    ]),\n",
    "    (r'Hello|Hi|Hey', [\n",
    "        'Hello! How can I assist you today?',\n",
    "        'Hi there! What can I help you with?',\n",
    "        'Hey! What is on your mind?'\n",
    "    ]),\n",
    "    (r'thanks|thank you', [\n",
    "        'You are welcome, tell me what else you would like to talk about.',\n",
    "        'Glad I could help. What else is on your mind?',\n",
    "        'Great to hear. What else would you like to chat about?'\n",
    "    ]),\n",
    "    (r'yes|maybe', [\n",
    "        'Okay, please elaborate.',\n",
    "        'Okay, how do you know?'\n",
    "    ]),\n",
    "    (r'no|nope|not sure|I dont know|I do not know|never|none', [\n",
    "        'Okay, anything else you want to talk about? If not please say type done or stop.'\n",
    "    ]),\n",
    "    (r'I want (.*)', [\n",
    "        'Okay, and why do you think you want {}?',\n",
    "        'Okay, please elaborate on your interest in {}.',\n",
    "        'Can you tell me more about your desire for {}?'\n",
    "    ]),\n",
    "    (r'(.*)\\?', [\n",
    "        \"Why do you ask {}?\",\n",
    "        \"Why don't you tell me {}?\"])\n",
    "]"
   ]
  },
  {
   "cell_type": "code",
   "execution_count": 106,
   "id": "ce41ee3b-be60-4ca4-97d7-0c4924af1f51",
   "metadata": {},
   "outputs": [],
   "source": [
    "# Define a function to handle pronoun substitution\n",
    "def reflect(text):\n",
    "    # Dictionary for pronoun substitution\n",
    "    reflections = {\n",
    "        \"I\": \"you\",\n",
    "        \"you\": \"I\",\n",
    "        \"my\": \"your\",\n",
    "        \"your\": \"my\",\n",
    "        \"mine\": \"yours\",\n",
    "        \"yours\": \"mine\",\n",
    "        \"me\": \"you\",\n",
    "        \"am\": \"are\",\n",
    "        \"are\": \"am\",\n",
    "        \"you will\": \"I will\",\n",
    "        \"I will\": \"you will\",\n",
    "        \"I can\": \"you can\",\n",
    "        \"you can\": \"I can\",\n",
    "        \"I would\": \"you would\",\n",
    "        \"I should\": \"you should\"\n",
    "    }\n",
    "\n",
    "    words = text.split()\n",
    "    for i, word in enumerate(words):\n",
    "        if word.lower() in reflections:\n",
    "            words[i] = reflections[word.lower()]\n",
    "\n",
    "    return ' '.join(words)"
   ]
  },
  {
   "cell_type": "code",
   "execution_count": 108,
   "id": "25490aa7-63b0-435c-ab38-64fe63b44d32",
   "metadata": {},
   "outputs": [],
   "source": [
    "# Define a function to generate a random response\n",
    "def generate_response(responses, groups):\n",
    "    response = random.choice(responses)\n",
    "    return response.format(*groups)"
   ]
  },
  {
   "cell_type": "code",
   "execution_count": 110,
   "id": "df4efd07-b1e9-42fb-b3d9-5314a311ddc4",
   "metadata": {},
   "outputs": [],
   "source": [
    "# Define a function to respond to user input\n",
    "def respond(input_text):\n",
    "    input_text = input_text.strip()\n",
    "    input_text = reflect(input_text)  # Handle pronoun substitution\n",
    "    for pattern, responses in patterns:\n",
    "        match = re.match(pattern, input_text, re.I)\n",
    "        if match:\n",
    "            return generate_response(responses, match.groups())\n",
    "\n",
    "    return \"I am not sure what you mean. Can you rephrase that?\""
   ]
  },
  {
   "cell_type": "code",
   "execution_count": 112,
   "id": "c45e049a-f8c1-40a8-8397-c1cc2e3d13f3",
   "metadata": {},
   "outputs": [],
   "source": [
    "#Define a function for user's name\n",
    "from nltk.tokenize import word_tokenize\n",
    "\n",
    "def opening():\n",
    "    \n",
    "    print(\"Eliza: Hello! I'm Eliza, a psychotherapist. Please begin by stating your name.\")\n",
    "    name_input = input('User:')\n",
    "    print()\n",
    "    tokenizer = word_tokenize(name_input.replace('.', ''))\n",
    "    user_name = tokenizer[-1]\n",
    "    return user_name"
   ]
  },
  {
   "cell_type": "code",
   "execution_count": 116,
   "id": "dd68845e-5a8c-4724-80af-f6cf1ed431a6",
   "metadata": {},
   "outputs": [
    {
     "name": "stdout",
     "output_type": "stream",
     "text": [
      "Eliza: Hello! I'm Eliza, a psychotherapist. Please begin by stating your name.\n"
     ]
    },
    {
     "name": "stdin",
     "output_type": "stream",
     "text": [
      "User: Cathy\n"
     ]
    },
    {
     "name": "stdout",
     "output_type": "stream",
     "text": [
      "\n",
      "Eliza: Hello Cathy! How can I assist you today?\n"
     ]
    },
    {
     "name": "stdin",
     "output_type": "stream",
     "text": [
      "You:  I need help\n"
     ]
    },
    {
     "name": "stdout",
     "output_type": "stream",
     "text": [
      "Eliza: What would it mean if you got help?\n"
     ]
    },
    {
     "name": "stdin",
     "output_type": "stream",
     "text": [
      "You:  I would be happy\n"
     ]
    },
    {
     "name": "stdout",
     "output_type": "stream",
     "text": [
      "Eliza: Is that the real reason?\n"
     ]
    },
    {
     "name": "stdin",
     "output_type": "stream",
     "text": [
      "You:  yes\n"
     ]
    },
    {
     "name": "stdout",
     "output_type": "stream",
     "text": [
      "Eliza: Okay, please elaborate.\n"
     ]
    },
    {
     "name": "stdin",
     "output_type": "stream",
     "text": [
      "You:  I feel sad\n"
     ]
    },
    {
     "name": "stdout",
     "output_type": "stream",
     "text": [
      "Eliza: Why do you feel sad?\n"
     ]
    },
    {
     "name": "stdin",
     "output_type": "stream",
     "text": [
      "You:  I want money\n"
     ]
    },
    {
     "name": "stdout",
     "output_type": "stream",
     "text": [
      "Eliza: Okay, please elaborate on your interest in money.\n"
     ]
    },
    {
     "name": "stdin",
     "output_type": "stream",
     "text": [
      "You:  I need it\n"
     ]
    },
    {
     "name": "stdout",
     "output_type": "stream",
     "text": [
      "Eliza: Why do you need it?\n"
     ]
    },
    {
     "name": "stdin",
     "output_type": "stream",
     "text": [
      "You:  I should have it\n"
     ]
    },
    {
     "name": "stdout",
     "output_type": "stream",
     "text": [
      "Eliza: I understand that you think you should have it. Can you explain why?\n"
     ]
    },
    {
     "name": "stdin",
     "output_type": "stream",
     "text": [
      "You:  because I have bills\n"
     ]
    },
    {
     "name": "stdout",
     "output_type": "stream",
     "text": [
      "Eliza: Can you elaborate on why?\n"
     ]
    },
    {
     "name": "stdin",
     "output_type": "stream",
     "text": [
      "You:  no\n"
     ]
    },
    {
     "name": "stdout",
     "output_type": "stream",
     "text": [
      "Eliza: Okay, anything else you want to talk about? If not please say type done or stop.\n"
     ]
    },
    {
     "name": "stdin",
     "output_type": "stream",
     "text": [
      "You:  done\n"
     ]
    },
    {
     "name": "stdout",
     "output_type": "stream",
     "text": [
      "Eliza: Thank you for talking with me. Goodbye!\n",
      "Eliza: Goodbye! Have a nice day, Cathy!\n"
     ]
    }
   ],
   "source": [
    "# Main chat loop\n",
    "user_name = opening()\n",
    "print(f\"Eliza: Hello {user_name}! How can I assist you today?\")\n",
    "while True:\n",
    "    user_input = input(\"You: \")\n",
    "    response = respond(user_input)\n",
    "    print(\"Eliza:\", response)\n",
    "\n",
    "    if user_input.lower() in ['quit', 'exit', 'bye', 'done', 'stop']:\n",
    "        print(f\"Eliza: Goodbye! Have a nice day, {user_name}!\")\n",
    "        break\n",
    "#Eliza: Hello! How can I assist you today? (Rebecca - I don't think we need this)"
   ]
  },
  {
   "cell_type": "code",
   "execution_count": null,
   "id": "0e21bef8-fe07-4d51-8a5e-1ea14932dccb",
   "metadata": {},
   "outputs": [],
   "source": []
  }
 ],
 "metadata": {
  "kernelspec": {
   "display_name": "anaconda-panel-2023.05-py310",
   "language": "python",
   "name": "conda-env-anaconda-panel-2023.05-py310-py"
  },
  "language_info": {
   "codemirror_mode": {
    "name": "ipython",
    "version": 3
   },
   "file_extension": ".py",
   "mimetype": "text/x-python",
   "name": "python",
   "nbconvert_exporter": "python",
   "pygments_lexer": "ipython3",
   "version": "3.11.4"
  }
 },
 "nbformat": 4,
 "nbformat_minor": 5
}
