{
 "cells": [
  {
   "cell_type": "code",
   "execution_count": 1,
   "id": "ffce2d43",
   "metadata": {},
   "outputs": [],
   "source": [
    "# import all the necessary packages\n",
    "\n",
    "import re\n",
    "import random"
   ]
  },
  {
   "cell_type": "code",
   "execution_count": 2,
   "id": "c8e00bc4",
   "metadata": {},
   "outputs": [],
   "source": [
    "# Define a list of patterns and responses\n",
    "patterns = [\n",
    "    (r'I need (.*)', [\n",
    "        'Why do you need {0}?',\n",
    "        'What would it mean if you got {0}?',\n",
    "        'Can you tell me more about your need for {0}?'\n",
    "    ]),\n",
    "    (r'Why (?:don\\'?t|cannot|can\\'?t) you ([^\\?]+)\\??', [\n",
    "        'Do you really think I can\\'t {0}?',\n",
    "        'What makes you think I can\\'t {0}?',\n",
    "        'I might be able to {0} if you provide more information.'\n",
    "    ]),\n",
    "    (r'(.*)\\s?because(.*)', [\n",
    "        'Is that the real reason?',\n",
    "        'What other reasons come to mind?',\n",
    "        'Can you elaborate on why {0} because {1}?',\n",
    "    ]),\n",
    "    (r'quit|exit|bye', [\n",
    "        'Thank you for talking with me. Goodbye!',\n",
    "        'Goodbye! Take care.'\n",
    "    ]),\n",
    "    (r'I feel (.*)', [\n",
    "        'Tell me more about your feelings.',\n",
    "        'Why do you feel {0}?',\n",
    "        'I understand that you feel {0}. Can you explain why?'\n",
    "    ]),\n",
    "    (r'Hello|Hi|Hey', [\n",
    "        'Hello! How can I assist you today?',\n",
    "        'Hi there! What can I help you with?',\n",
    "        'Hey! What is on your mind?'\n",
    "    ]),\n",
    "]"
   ]
  },
  {
   "cell_type": "code",
   "execution_count": 3,
   "id": "1528878e",
   "metadata": {},
   "outputs": [],
   "source": [
    "# Define a function to handle pronoun substitution\n",
    "def reflect(text):\n",
    "    # Dictionary for pronoun substitution\n",
    "    reflections = {\n",
    "        \"I\": \"you\",\n",
    "        \"you\": \"I\",\n",
    "        \"my\": \"your\",\n",
    "        \"your\": \"my\",\n",
    "        \"me\": \"you\",\n",
    "        \"am\": \"are\"\n",
    "    }\n",
    "\n",
    "    words = text.split()\n",
    "    for i, word in enumerate(words):\n",
    "        if word.lower() in reflections:\n",
    "            words[i] = reflections[word.lower()]\n",
    "\n",
    "    return ' '.join(words)"
   ]
  },
  {
   "cell_type": "code",
   "execution_count": 4,
   "id": "d32b429f",
   "metadata": {},
   "outputs": [],
   "source": [
    "# Define a function to generate a random response\n",
    "def generate_response(responses, groups):\n",
    "    response = random.choice(responses)\n",
    "    return response.format(*groups)"
   ]
  },
  {
   "cell_type": "code",
   "execution_count": 5,
   "id": "7db45d1e",
   "metadata": {},
   "outputs": [],
   "source": [
    "# Define a function to respond to user input\n",
    "def respond(input_text):\n",
    "    input_text = input_text.strip()\n",
    "    input_text = reflect(input_text)  # Handle pronoun substitution\n",
    "    for pattern, responses in patterns:\n",
    "        match = re.match(pattern, input_text, re.I)\n",
    "        if match:\n",
    "            return generate_response(responses, match.groups())\n",
    "\n",
    "    return \"I am not sure what you mean. Can you rephrase that?\""
   ]
  },
  {
   "cell_type": "code",
   "execution_count": 6,
   "id": "4355b774",
   "metadata": {},
   "outputs": [
    {
     "name": "stderr",
     "output_type": "stream",
     "text": [
      "C:\\Users\\rebec\\anaconda3\\lib\\site-packages\\scipy\\__init__.py:138: UserWarning: A NumPy version >=1.16.5 and <1.23.0 is required for this version of SciPy (detected version 1.24.4)\n",
      "  warnings.warn(f\"A NumPy version >={np_minversion} and <{np_maxversion} is required for this version of \"\n"
     ]
    }
   ],
   "source": [
    "#Define a function for user's name\n",
    "from nltk.tokenize import word_tokenize\n",
    "\n",
    "def opening():\n",
    "    \n",
    "    print(\"Eliza: Hello! I'm Eliza, a psychotherapist. Please begin by stating your name.\")\n",
    "    name_input = input('User:')\n",
    "    print()\n",
    "    tokenizer = word_tokenize(name_input.replace('.', ''))\n",
    "    user_name = tokenizer[-1]\n",
    "    return user_name\n"
   ]
  },
  {
   "cell_type": "code",
   "execution_count": 7,
   "id": "99398fcb",
   "metadata": {},
   "outputs": [
    {
     "name": "stdout",
     "output_type": "stream",
     "text": [
      "Eliza: Hello! I'm Eliza, a psychotherapist. Please begin by stating your name.\n",
      "User:Cathy\n",
      "\n",
      "Eliza: Hello Cathy! How can I assist you today?\n",
      "You: Why can't I sleep\n",
      "Eliza: I am not sure what you mean. Can you rephrase that?\n",
      "You: I need sleep\n",
      "Eliza: What would it mean if you got sleep?\n",
      "You: Bye\n",
      "Eliza: Thank you for talking with me. Goodbye!\n",
      "Eliza: Goodbye! Have a nice day, Cathy!\n"
     ]
    }
   ],
   "source": [
    "# Main chat loop\n",
    "user_name = opening()\n",
    "print(f\"Eliza: Hello {user_name}! How can I assist you today?\")\n",
    "while True:\n",
    "    user_input = input(\"You: \")\n",
    "    response = respond(user_input)\n",
    "    print(\"Eliza:\", response)\n",
    "\n",
    "    if user_input.lower() in ['quit', 'exit', 'bye']:\n",
    "        print(f\"Eliza: Goodbye! Have a nice day, {user_name}!\")\n",
    "        break\n",
    "#Eliza: Hello! How can I assist you today? (Rebecca - I don't think we need this)"
   ]
  },
  {
   "cell_type": "code",
   "execution_count": null,
   "id": "1e91b0f7",
   "metadata": {},
   "outputs": [],
   "source": []
  }
 ],
 "metadata": {
  "kernelspec": {
   "display_name": "Python 3",
   "language": "python",
   "name": "python3"
  },
  "language_info": {
   "codemirror_mode": {
    "name": "ipython",
    "version": 3
   },
   "file_extension": ".py",
   "mimetype": "text/x-python",
   "name": "python",
   "nbconvert_exporter": "python",
   "pygments_lexer": "ipython3",
   "version": "3.8.8"
  }
 },
 "nbformat": 4,
 "nbformat_minor": 5
}
